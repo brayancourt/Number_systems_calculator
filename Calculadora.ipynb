{
 "cells": [
  {
   "cell_type": "markdown",
   "metadata": {},
   "source": [
    "# OPERACIONES CALCULADORA"
   ]
  },
  {
   "cell_type": "markdown",
   "metadata": {},
   "source": [
    "# Suma Binaria"
   ]
  },
  {
   "cell_type": "code",
   "execution_count": 121,
   "metadata": {},
   "outputs": [],
   "source": [
    "def suma_binaria(num_a, num_b):\n",
    "    '''Funcion que determina la suma de dos numeros binarios (num_a + num_b).\n",
    "    \n",
    "    Entradas:\n",
    "    num_a: string\n",
    "    num_b: string\n",
    "    \n",
    "    Retorno :\n",
    "    Tupla que contiene el resultado y el acarreo final.\n",
    "    '''\n",
    "    if len(num_a) > len(num_b):           # zfill completa con ceros el número de menor tamaño\n",
    "        num_b = num_b.zfill(len(num_a))   # Condiciones para completar los ceros\n",
    "    else :\n",
    "        num_a = num_a.zfill(len(num_b))\n",
    "            \n",
    "\n",
    "    resultado = \"\"\n",
    "    acarreo = \"0\"\n",
    "    for i in range (len(num_a)-1, -1, -1):    #Recorrido de derecha a izquierda.\n",
    "         \n",
    "        if num_a[i] == \"0\" and num_b[i] == \"0\" and acarreo == \"0\":    # Condiciones de todos los posibles resultados\n",
    "            resultado = \"0\" + resultado\n",
    "            \n",
    "        elif num_a[i] == \"0\" and num_b[i] == \"0\" and acarreo == \"1\":\n",
    "            resultado = \"1\" + resultado\n",
    "            acarreo = \"0\"\n",
    "            \n",
    "        elif num_a[i] == \"0\" and num_b[i] == \"1\" and acarreo == \"0\":\n",
    "            resultado = \"1\" + resultado\n",
    "            \n",
    "        elif num_a[i] == \"0\" and num_b[i] == \"1\" and acarreo == \"1\":\n",
    "            resultado = \"0\" + resultado\n",
    "            acarreo = \"1\"\n",
    "            \n",
    "        elif num_a[i] == \"1\" and num_b[i] == \"0\" and acarreo == \"0\":\n",
    "            resultado = \"1\" + resultado\n",
    "            \n",
    "        elif num_a[i] == \"1\" and num_b[i] == \"0\" and acarreo == \"1\":\n",
    "            resultado = \"0\" + resultado\n",
    "            acarreo = \"1\"\n",
    "            \n",
    "        elif num_a[i] == \"1\" and num_b[i] == \"1\" and acarreo == \"0\":\n",
    "            resultado = \"0\" + resultado\n",
    "            acarreo = \"1\"\n",
    "            \n",
    "        elif num_a[i] == \"1\" and num_b[i] == \"1\" and acarreo == \"1\":\n",
    "            resultado = \"1\" + resultado\n",
    "            acarreo = \"1\"\n",
    "            \n",
    "    if acarreo == \"1\":                         # Agregar el acarreo final al resultado\n",
    "        resultado = \"1\" + resultado\n",
    "            \n",
    "    return (resultado, acarreo)                #Retorna el resultado y el acarreo"
   ]
  },
  {
   "cell_type": "code",
   "execution_count": 122,
   "metadata": {},
   "outputs": [
    {
     "data": {
      "text/plain": [
       "('111001101110', '0')"
      ]
     },
     "execution_count": 122,
     "metadata": {},
     "output_type": "execute_result"
    }
   ],
   "source": [
    "suma_binaria('1101111', '110111111111')"
   ]
  },
  {
   "cell_type": "code",
   "execution_count": 123,
   "metadata": {},
   "outputs": [
    {
     "data": {
      "text/plain": [
       "'0b111001101110'"
      ]
     },
     "execution_count": 123,
     "metadata": {},
     "output_type": "execute_result"
    }
   ],
   "source": [
    "bin(0b1101111+0b110111111111)"
   ]
  },
  {
   "cell_type": "markdown",
   "metadata": {},
   "source": [
    "## Complemento a1"
   ]
  },
  {
   "cell_type": "code",
   "execution_count": 124,
   "metadata": {},
   "outputs": [],
   "source": [
    "def complementoa1(x):\n",
    "    ca1 = ''\n",
    "    for i in range (len(x)):    #Recorrer todo x\n",
    "        if x[i] == '0':         #Si es cero pase a uno\n",
    "            ca1 = ca1 + '1'     #Agregar a la derecha \n",
    "            \n",
    "        else:\n",
    "            x[i] == '1'         #Si es uno pase a cero\n",
    "            ca1 = ca1 + '0'     #Agregar a la derecha\n",
    "    return(ca1)"
   ]
  },
  {
   "cell_type": "code",
   "execution_count": 125,
   "metadata": {},
   "outputs": [
    {
     "data": {
      "text/plain": [
       "'000001111000'"
      ]
     },
     "execution_count": 125,
     "metadata": {},
     "output_type": "execute_result"
    }
   ],
   "source": [
    "complementoa1('111110000111')"
   ]
  },
  {
   "cell_type": "markdown",
   "metadata": {},
   "source": [
    "## Complemento a2"
   ]
  },
  {
   "cell_type": "code",
   "execution_count": 126,
   "metadata": {},
   "outputs": [],
   "source": [
    "def complementoa2(x):\n",
    "    y = '1'\n",
    "    ca2 = suma_binaria(x,y)\n",
    "    \n",
    "    return(ca2)\n",
    "    "
   ]
  },
  {
   "cell_type": "markdown",
   "metadata": {},
   "source": [
    "# Resta Binaria"
   ]
  },
  {
   "cell_type": "code",
   "execution_count": 127,
   "metadata": {},
   "outputs": [],
   "source": [
    "def resta_binaria(num_a,num_b):\n",
    "    '''-Funcion que determina la resta de dos numeros binarios (num_a - num_b).\n",
    "    -Esta funcion necesita la funcion suma_binaria para hacer las respectivas restas.\n",
    "    \n",
    "    Entradas:\n",
    "    num_a: string\n",
    "    num_b: string\n",
    "    \n",
    "    Retorno:\n",
    "    Retorna un string con el resultado\n",
    "    '''\n",
    "    \n",
    "    if len(num_a) > len(num_b):       #Completar con ceros cada parametro\n",
    "        num_b = num_b.zfill(len(num_a))\n",
    "    else:\n",
    "        num_a = num_a.zfill(len(num_b))\n",
    "        \n",
    "    ca1 = complementoa1(num_b)        #Calculo del complemento a1\n",
    "    \n",
    "    resultado_temp, acarreo = suma_binaria(num_a, ca1)   #llamar la funcion suma que retorna el resultado de la suma y el acarreo\n",
    "\n",
    "    if acarreo == '1':                #Si acarreo final es 1 hacer complemento a2\n",
    "        resultado, acarreo_resta = complementoa2(resultado_temp[1:])\n",
    "        \n",
    "    \n",
    "    if acarreo == '0':                #Si acarreo final es 0 hacer complemento a1\n",
    "        resultado = '-' + complementoa1(resultado_temp)\n",
    "\n",
    "        \n",
    "    return (resultado)        "
   ]
  },
  {
   "cell_type": "code",
   "execution_count": 128,
   "metadata": {},
   "outputs": [
    {
     "data": {
      "text/plain": [
       "'-100111'"
      ]
     },
     "execution_count": 128,
     "metadata": {},
     "output_type": "execute_result"
    }
   ],
   "source": [
    "resta_binaria('11', '101010')"
   ]
  },
  {
   "cell_type": "code",
   "execution_count": 129,
   "metadata": {},
   "outputs": [
    {
     "data": {
      "text/plain": [
       "'-0b100111'"
      ]
     },
     "execution_count": 129,
     "metadata": {},
     "output_type": "execute_result"
    }
   ],
   "source": [
    "bin(0b11-0b101010)"
   ]
  },
  {
   "cell_type": "markdown",
   "metadata": {},
   "source": [
    "# Multiplicación Binaria"
   ]
  },
  {
   "cell_type": "code",
   "execution_count": 130,
   "metadata": {},
   "outputs": [],
   "source": [
    "def multipli_binaria(num_a,num_b):\n",
    "    '''***\n",
    "    -Funcion que determina el producto de dos numeros binarios(num_a X num_b).\n",
    "    -Esta funcion necesita la funcion suma_binario para hacer las respectivas multiplicaciones. \n",
    "    \n",
    "    Entradas:\n",
    "    num_a: string\n",
    "    num_b: string\n",
    "    \n",
    "    Esta funcion retorna el ultimo valor de la lista 'resultado'.\n",
    "    :)\n",
    "    ***'''\n",
    "    vacio = ''   \n",
    "    resultado = []\n",
    "    for i in range (len(num_b)-1, -1, -1):     # Multiplicacion basica de ceros y unos \n",
    "        if num_b[i] == '0':                    # Condicon si multiplica por 0 \n",
    "            multipli = vacio.zfill(len(num_a)) # Agregar ceros segun el tamaño de num_a\n",
    "            resultado.append(multipli)         # El resultado se guarda en la lista 'resultado'\n",
    "        if num_b[i] == '1':                    # Condicion si multiplica por 1\n",
    "            multipli = num_a                   # Multiplicacion por 1 devulve el mismo numero \n",
    "            resultado.append(multipli)         # El resultado se guarda en la lista 'resultado'\n",
    "\n",
    "    for i in range (0,len(resultado),1):       # Completar ceros en cada parametro de la lista para sumarlos\n",
    "        resultado[i] = resultado[i]+vacio.zfill(i)\n",
    "        \n",
    "    for i in range (0, len(resultado)-1,1):   # Se hacen las sumas del contenido de la lista'resultado'\n",
    "        res_suma, acarreo = suma_binaria(resultado[i+1],resultado[i])\n",
    "        resultado[i+1]=res_suma       \n",
    "    return (resultado[-1])                    #retorna el ultimo valor de la lista\n"
   ]
  },
  {
   "cell_type": "code",
   "execution_count": 131,
   "metadata": {},
   "outputs": [
    {
     "data": {
      "text/plain": [
       "'1100011110'"
      ]
     },
     "execution_count": 131,
     "metadata": {},
     "output_type": "execute_result"
    }
   ],
   "source": [
    "multipli_binaria('1110010','111')"
   ]
  },
  {
   "cell_type": "code",
   "execution_count": 132,
   "metadata": {},
   "outputs": [
    {
     "data": {
      "text/plain": [
       "'0b1100011110'"
      ]
     },
     "execution_count": 132,
     "metadata": {},
     "output_type": "execute_result"
    }
   ],
   "source": [
    "bin(0b1110010 * 0b111)"
   ]
  },
  {
   "cell_type": "markdown",
   "metadata": {},
   "source": [
    "# División Binaria"
   ]
  },
  {
   "cell_type": "code",
   "execution_count": 133,
   "metadata": {},
   "outputs": [],
   "source": [
    "def division_binaria(num_a, num_b):\n",
    "    '''-Funcion que determina la division de dos numeros binarios(num_a / num_b).\n",
    "    -Esta funcion necesita la funcion resta_binario para hacer las respectivas divisiones. \n",
    "    \n",
    "    Entradas:\n",
    "    num_a: string- dividendo\n",
    "    num_b: string- divisor\n",
    "    \n",
    "    Esta funcion retorna el ultimo valor de la lista 'resultado'.\n",
    "    :)'''\n",
    "    resultado = ''\n",
    "    residuo = ''    \n",
    "    if int(num_a) < int(num_b): # Si el dividendo es menor que el divisor  \n",
    "        resultado = '0'\n",
    "        residuo = num_a         #  El resultado o coiente termina en cero\n",
    "        \n",
    "    if int(num_a) > int(num_b):    #  Si el dividendo es mayor que el divisor \n",
    "        num_a_temp = num_a[0:len(num_b)]   #Tomar el numero de caracteres en el dividendo , segun la cantidad del divisor\n",
    "        \n",
    "        for i in range (len(num_a) - len(num_b) + 1):   \n",
    "            if int(num_a_temp) >= int(num_b):\n",
    "                resultado = resultado + '1'\n",
    "                num_a_temp = resta_binaria(num_a_temp, num_b)    \n",
    "        \n",
    "            else:\n",
    "                resultado = resultado + '0' \n",
    "                residuo = num_a_temp\n",
    "            if i + len(num_b) < len(num_a):\n",
    "                num_a_temp = num_a_temp + num_a[i + len(num_b)]\n",
    "    if num_a == num_b:                  #Si divisor y dividendo son iguales , el cociente es 1\n",
    "        resultado = '1'\n",
    "            \n",
    "    return(resultado)"
   ]
  },
  {
   "cell_type": "code",
   "execution_count": 134,
   "metadata": {},
   "outputs": [
    {
     "data": {
      "text/plain": [
       "'01'"
      ]
     },
     "execution_count": 134,
     "metadata": {},
     "output_type": "execute_result"
    }
   ],
   "source": [
    "division_binaria('101', '11')"
   ]
  },
  {
   "cell_type": "markdown",
   "metadata": {},
   "source": [
    "# Potenciación"
   ]
  },
  {
   "cell_type": "code",
   "execution_count": 138,
   "metadata": {},
   "outputs": [],
   "source": [
    "def pot_binaria(num_a, potencia):\n",
    "    '''***\n",
    "    -Funcion que multiplica el \"num_a\" segun la catidad de veces que le determinemos en \"potencia\".\n",
    "    -Esta funcion necesita la funcion multipli_binario para hacer las respectivas potenciaciones.\n",
    "    \n",
    "    Entradas:\n",
    "    num_a: string\n",
    "    potencia: entero\n",
    "    \n",
    "    Esta funcion retorna:\n",
    "    resultado: string\n",
    "\n",
    "    \n",
    "    Salu2\n",
    "    ***'''\n",
    "    potencia = int(potencia)                    #potencia siempre es entero\n",
    "    inicial = num_a                             #Inicalizar variable que me guarda cada operacion\n",
    "    if potencia > 1: \n",
    "        for i in range(1,potencia,1):               #Se define cuantas veces se va a multiplicar \n",
    "            resultado = multipli_binaria(inicial,num_a) # Multiplicacion\n",
    "            inicial = resultado                      # Guardar la multiplicacion en la varible\n",
    "\n",
    "    elif potencia == 0:\n",
    "        resultado = '1'\n",
    "    elif potencia == 1:\n",
    "        resultado = num_a\n",
    "    \n",
    "    return resultado                            \n",
    "       "
   ]
  },
  {
   "cell_type": "code",
   "execution_count": 139,
   "metadata": {},
   "outputs": [
    {
     "data": {
      "text/plain": [
       "'1011010101001011101'"
      ]
     },
     "execution_count": 139,
     "metadata": {},
     "output_type": "execute_result"
    }
   ],
   "source": [
    "pot_binaria('1101',5)"
   ]
  },
  {
   "cell_type": "code",
   "execution_count": 140,
   "metadata": {},
   "outputs": [
    {
     "data": {
      "text/plain": [
       "'0b1011010101001011101'"
      ]
     },
     "execution_count": 140,
     "metadata": {},
     "output_type": "execute_result"
    }
   ],
   "source": [
    "bin(0b1101 ** 5)"
   ]
  },
  {
   "cell_type": "code",
   "execution_count": null,
   "metadata": {},
   "outputs": [],
   "source": []
  }
 ],
 "metadata": {
  "kernelspec": {
   "display_name": "Python 3",
   "language": "python",
   "name": "python3"
  },
  "language_info": {
   "codemirror_mode": {
    "name": "ipython",
    "version": 3
   },
   "file_extension": ".py",
   "mimetype": "text/x-python",
   "name": "python",
   "nbconvert_exporter": "python",
   "pygments_lexer": "ipython3",
   "version": "3.8.5"
  }
 },
 "nbformat": 4,
 "nbformat_minor": 5
}
